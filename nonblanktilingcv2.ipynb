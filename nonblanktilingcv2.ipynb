{
 "cells": [
  {
   "cell_type": "code",
   "execution_count": 1,
   "id": "9cc58d20",
   "metadata": {
    "execution": {
     "iopub.execute_input": "2023-11-24T16:03:09.038479Z",
     "iopub.status.busy": "2023-11-24T16:03:09.037813Z",
     "iopub.status.idle": "2023-11-24T16:03:09.227630Z",
     "shell.execute_reply": "2023-11-24T16:03:09.226843Z"
    },
    "papermill": {
     "duration": 0.196263,
     "end_time": "2023-11-24T16:03:09.230138",
     "exception": false,
     "start_time": "2023-11-24T16:03:09.033875",
     "status": "completed"
    },
    "tags": []
   },
   "outputs": [],
   "source": [
    "import os\n",
    "import cv2\n",
    "import glob\n",
    "import numpy as np\n",
    "\n",
    "def generate_tiles(image_path, save_dir, tile_size, threshold_mean, threshold_std):\n",
    "    \"\"\"\n",
    "    Generates tiles from an image based on specified criteria and saves non-blank tiles to a directory.\n",
    "\n",
    "    Args:\n",
    "    - image_path (str): Path to the input image file.\n",
    "    - save_dir (str): Directory to save the generated tiles.\n",
    "    - tile_size (int): Size of each square tile (in pixels).\n",
    "    - threshold_mean (float): Minimum threshold for the mean pixel value to consider a tile non-blank.\n",
    "    - threshold_std (float): Minimum threshold for the standard deviation of pixel values to consider a tile non-blank.\n",
    "\n",
    "    Returns:\n",
    "    - None: Saves non-blank tiles to the specified directory.\n",
    "    \"\"\"\n",
    "\n",
    "    # Read the input image using OpenCV\n",
    "    img = cv2.imread(image_path)\n",
    "\n",
    "    # Extract image dimensions from the shape\n",
    "    height, width, _ = img.shape\n",
    "\n",
    "    # Calculate the number of tiles in rows and columns\n",
    "    rows = height // tile_size\n",
    "    cols = width // tile_size\n",
    "\n",
    "    # Create the directory to save tiles if it doesn't exist\n",
    "    os.makedirs(save_dir, exist_ok=True)\n",
    "\n",
    "    # Iterate through each tile in the image\n",
    "    for row in range(rows):\n",
    "        for col in range(cols):\n",
    "            x = col * tile_size\n",
    "            y = row * tile_size\n",
    "\n",
    "            # Extract the current tile from the image\n",
    "            tile = img[y:y+tile_size, x:x+tile_size]\n",
    "            tile_name = f\"{os.path.splitext(os.path.basename(image_path))[0]}_tile_{col}_{row}.png\"\n",
    "\n",
    "            # Convert the tile to a NumPy array for mean and std calculation\n",
    "            tile_np = np.array(tile)\n",
    "\n",
    "            # Check if the tile is not mostly blank based on mean and std thresholds\n",
    "            if tile_np.mean() >= threshold_mean and tile_np.std() >= threshold_std:\n",
    "                # Save the non-blank tile to the specified directory\n",
    "                tile_path = os.path.join(save_dir, tile_name)\n",
    "                cv2.imwrite(tile_path, tile)"
   ]
  },
  {
   "cell_type": "code",
   "execution_count": 2,
   "id": "ef24403f",
   "metadata": {
    "execution": {
     "iopub.execute_input": "2023-11-24T16:03:09.235391Z",
     "iopub.status.busy": "2023-11-24T16:03:09.235098Z",
     "iopub.status.idle": "2023-11-24T16:03:35.908627Z",
     "shell.execute_reply": "2023-11-24T16:03:35.907818Z"
    },
    "papermill": {
     "duration": 26.678578,
     "end_time": "2023-11-24T16:03:35.910906",
     "exception": false,
     "start_time": "2023-11-24T16:03:09.232328",
     "status": "completed"
    },
    "tags": []
   },
   "outputs": [],
   "source": [
    "# Directory containing input images\n",
    "image_dir = \"/kaggle/input/UBC-OCEAN/test_images/*.png\"\n",
    "\n",
    "# Directory to save the tiles\n",
    "save_dir = \"/kaggle/working/output_tiles/\"\n",
    "\n",
    "# Get paths of all image files in the input directory\n",
    "image_paths = glob.glob(image_dir)\n",
    "\n",
    "# Process each image to generate and save tiles\n",
    "for image_path in image_paths:\n",
    "    # Generate tiles using specified parameters (adjustable)\n",
    "    generate_tiles(image_path, save_dir, tile_size=256,threshold_mean=170, threshold_std=15)"
   ]
  },
  {
   "cell_type": "markdown",
   "id": "4ca8065d",
   "metadata": {
    "papermill": {
     "duration": 0.001605,
     "end_time": "2023-11-24T16:03:35.914848",
     "exception": false,
     "start_time": "2023-11-24T16:03:35.913243",
     "status": "completed"
    },
    "tags": []
   },
   "source": [
    "Acknowledgement:\n",
    "https://github.com/bnsreenu/python_for_microscopists"
   ]
  }
 ],
 "metadata": {
  "kaggle": {
   "accelerator": "nvidiaTeslaT4",
   "dataSources": [
    {
     "databundleVersionId": 6924515,
     "sourceId": 45867,
     "sourceType": "competition"
    }
   ],
   "dockerImageVersionId": 30588,
   "isGpuEnabled": true,
   "isInternetEnabled": true,
   "language": "python",
   "sourceType": "notebook"
  },
  "kernelspec": {
   "display_name": "Python 3",
   "language": "python",
   "name": "python3"
  },
  "language_info": {
   "codemirror_mode": {
    "name": "ipython",
    "version": 3
   },
   "file_extension": ".py",
   "mimetype": "text/x-python",
   "name": "python",
   "nbconvert_exporter": "python",
   "pygments_lexer": "ipython3",
   "version": "3.10.12"
  },
  "papermill": {
   "default_parameters": {},
   "duration": 30.498899,
   "end_time": "2023-11-24T16:03:36.135536",
   "environment_variables": {},
   "exception": null,
   "input_path": "__notebook__.ipynb",
   "output_path": "__notebook__.ipynb",
   "parameters": {},
   "start_time": "2023-11-24T16:03:05.636637",
   "version": "2.4.0"
  }
 },
 "nbformat": 4,
 "nbformat_minor": 5
}
