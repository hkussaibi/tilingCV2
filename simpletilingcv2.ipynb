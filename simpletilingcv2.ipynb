{
 "cells": [
  {
   "cell_type": "code",
   "execution_count": 1,
   "id": "465457e6",
   "metadata": {
    "execution": {
     "iopub.execute_input": "2023-11-24T13:31:24.509016Z",
     "iopub.status.busy": "2023-11-24T13:31:24.508644Z",
     "iopub.status.idle": "2023-11-24T13:31:24.707676Z",
     "shell.execute_reply": "2023-11-24T13:31:24.706596Z"
    },
    "papermill": {
     "duration": 0.205475,
     "end_time": "2023-11-24T13:31:24.710191",
     "exception": false,
     "start_time": "2023-11-24T13:31:24.504716",
     "status": "completed"
    },
    "tags": []
   },
   "outputs": [],
   "source": [
    "import os\n",
    "import cv2\n",
    "\n",
    "def generate_tiles(image_path, save_dir, tile_size):\n",
    "    \"\"\"\n",
    "    Function to generate tiles from a png whole slide image and save them in a specified directory.\n",
    "\n",
    "    Parameters:\n",
    "    image_path (str): Path to the input image file.\n",
    "    save_dir (str): Directory to save the generated tiles.\n",
    "    tile_size (int): Size of each square tile in pixels.\n",
    "    \"\"\"\n",
    "\n",
    "    # Read the input image using OpenCV\n",
    "    img = cv2.imread(image_path)\n",
    "\n",
    "    # Extract image dimensions (height, width, channels)\n",
    "    height, width, _ = img.shape\n",
    "\n",
    "    # Calculate the number of tiles in rows and columns\n",
    "    rows = height // tile_size\n",
    "    cols = width // tile_size\n",
    "\n",
    "    # Create the directory to save tiles if it doesn't exist\n",
    "    os.makedirs(save_dir, exist_ok=True)\n",
    "\n",
    "    # Iterate through rows and columns to generate tiles\n",
    "    for row in range(rows):\n",
    "        for col in range(cols):\n",
    "            # Calculate coordinates for each tile\n",
    "            x = col * tile_size\n",
    "            y = row * tile_size\n",
    "\n",
    "            # Extract the tile from the image\n",
    "            tile = img[y:y+tile_size, x:x+tile_size]\n",
    "\n",
    "            # Define the name and path for the tile\n",
    "            tile_name = f\"tile_{col}_{row}.png\"\n",
    "            tile_path = os.path.join(save_dir, tile_name)\n",
    "\n",
    "            # Save the tile as a PNG file\n",
    "            cv2.imwrite(tile_path, tile)"
   ]
  },
  {
   "cell_type": "code",
   "execution_count": 2,
   "id": "c24401f2",
   "metadata": {
    "execution": {
     "iopub.execute_input": "2023-11-24T13:31:24.715158Z",
     "iopub.status.busy": "2023-11-24T13:31:24.714807Z",
     "iopub.status.idle": "2023-11-24T13:31:25.689143Z",
     "shell.execute_reply": "2023-11-24T13:31:25.688032Z"
    },
    "papermill": {
     "duration": 0.979528,
     "end_time": "2023-11-24T13:31:25.691679",
     "exception": false,
     "start_time": "2023-11-24T13:31:24.712151",
     "status": "completed"
    },
    "tags": []
   },
   "outputs": [],
   "source": [
    "# Example usage\n",
    "image_path = \"/kaggle/input/UBC-OCEAN/train_images/13568.png\"\n",
    "save_dir = \"/kaggle/working/output_tiles/\"  # Directory to save the tiles\n",
    "generate_tiles(image_path, save_dir, tile_size=256)"
   ]
  }
 ],
 "metadata": {
  "kaggle": {
   "accelerator": "none",
   "dataSources": [
    {
     "databundleVersionId": 6924515,
     "sourceId": 45867,
     "sourceType": "competition"
    }
   ],
   "dockerImageVersionId": 30587,
   "isGpuEnabled": false,
   "isInternetEnabled": true,
   "language": "python",
   "sourceType": "notebook"
  },
  "kernelspec": {
   "display_name": "Python 3",
   "language": "python",
   "name": "python3"
  },
  "language_info": {
   "codemirror_mode": {
    "name": "ipython",
    "version": 3
   },
   "file_extension": ".py",
   "mimetype": "text/x-python",
   "name": "python",
   "nbconvert_exporter": "python",
   "pygments_lexer": "ipython3",
   "version": "3.10.12"
  },
  "papermill": {
   "default_parameters": {},
   "duration": 4.53608,
   "end_time": "2023-11-24T13:31:26.114213",
   "environment_variables": {},
   "exception": null,
   "input_path": "__notebook__.ipynb",
   "output_path": "__notebook__.ipynb",
   "parameters": {},
   "start_time": "2023-11-24T13:31:21.578133",
   "version": "2.4.0"
  }
 },
 "nbformat": 4,
 "nbformat_minor": 5
}
