{
 "cells": [
  {
   "cell_type": "markdown",
   "id": "396b7de9",
   "metadata": {
    "papermill": {
     "duration": 0.002556,
     "end_time": "2023-11-25T15:32:52.803141",
     "exception": false,
     "start_time": "2023-11-25T15:32:52.800585",
     "status": "completed"
    },
    "tags": []
   },
   "source": [
    "# Extract non-blank tiles from PNG WSIs, and save it in labels-specific folders\n",
    "Fast and simple method to produce relatively balanced dataset for adjusting and validating classification models before generalise it on the whole train_images dataset."
   ]
  },
  {
   "cell_type": "code",
   "execution_count": 1,
   "id": "e8650cde",
   "metadata": {
    "execution": {
     "iopub.execute_input": "2023-11-25T15:32:52.809684Z",
     "iopub.status.busy": "2023-11-25T15:32:52.809290Z",
     "iopub.status.idle": "2023-11-25T15:32:53.445097Z",
     "shell.execute_reply": "2023-11-25T15:32:53.443943Z"
    },
    "papermill": {
     "duration": 0.642254,
     "end_time": "2023-11-25T15:32:53.447619",
     "exception": false,
     "start_time": "2023-11-25T15:32:52.805365",
     "status": "completed"
    },
    "tags": []
   },
   "outputs": [],
   "source": [
    "import os\n",
    "import cv2\n",
    "import numpy as np\n",
    "import pandas as pd"
   ]
  },
  {
   "cell_type": "code",
   "execution_count": 2,
   "id": "4f9f0f37",
   "metadata": {
    "execution": {
     "iopub.execute_input": "2023-11-25T15:32:53.454317Z",
     "iopub.status.busy": "2023-11-25T15:32:53.453799Z",
     "iopub.status.idle": "2023-11-25T15:32:53.463275Z",
     "shell.execute_reply": "2023-11-25T15:32:53.462207Z"
    },
    "papermill": {
     "duration": 0.015991,
     "end_time": "2023-11-25T15:32:53.466067",
     "exception": false,
     "start_time": "2023-11-25T15:32:53.450076",
     "status": "completed"
    },
    "tags": []
   },
   "outputs": [],
   "source": [
    "# Function to generate tiles from images based on provided parameters\n",
    "def generate_tiles(image_id, label, image_dir, output_dir, tile_size, threshold_mean, threshold_std):\n",
    "    # Create label-specific output directory\n",
    "    label_output_dir = os.path.join(output_dir, label)\n",
    "    os.makedirs(label_output_dir, exist_ok=True)\n",
    "\n",
    "    # Construct the path for the image using its ID\n",
    "    image_path = os.path.join(image_dir, f\"{image_id}.png\")\n",
    "    \n",
    "    # Check if the image exists\n",
    "    if not os.path.exists(image_path):\n",
    "        print(f\"Image not found: {image_path}\")\n",
    "        return\n",
    "\n",
    "    try:\n",
    "        # Read the image using OpenCV\n",
    "        img = cv2.imread(image_path)\n",
    "        height, width, _ = img.shape\n",
    "    except Exception as e:\n",
    "        print(f\"Error reading image {image_path}: {e}\")\n",
    "        return\n",
    "\n",
    "    # Calculate the number of rows and columns for tiles\n",
    "    rows_count = height // tile_size\n",
    "    cols_count = width // tile_size\n",
    "\n",
    "    # Iterate through rows and columns to generate tiles\n",
    "    for row_idx in range(rows_count):\n",
    "        for col_idx in range(cols_count):\n",
    "            # Calculate coordinates for each tile\n",
    "            x = col_idx * tile_size\n",
    "            y = row_idx * tile_size\n",
    "\n",
    "            # Extract the tile from the image\n",
    "            tile = img[y:y+tile_size, x:x+tile_size]\n",
    "\n",
    "            # Define the name for the tiles\n",
    "            tile_name = f\"{image_id}_tile_{col_idx}_{row_idx}.png\"\n",
    "            \n",
    "            # Convert the tile to a NumPy array for mean and std calculation\n",
    "            tile_np = np.array(tile)\n",
    "\n",
    "            # Check if the tile is not mostly blank based on mean and std thresholds\n",
    "            if tile_np.mean() >= threshold_mean and tile_np.std() >= threshold_std:\n",
    "                # Define the path for the tiles\n",
    "                tile_path = os.path.join(label_output_dir, tile_name)\n",
    "                # Save the tile as a PNG files\n",
    "                cv2.imwrite(tile_path, tile)"
   ]
  },
  {
   "cell_type": "code",
   "execution_count": 3,
   "id": "1c2d53d5",
   "metadata": {
    "execution": {
     "iopub.execute_input": "2023-11-25T15:32:53.472423Z",
     "iopub.status.busy": "2023-11-25T15:32:53.471655Z",
     "iopub.status.idle": "2023-11-25T15:33:17.320620Z",
     "shell.execute_reply": "2023-11-25T15:33:17.319383Z"
    },
    "papermill": {
     "duration": 23.854972,
     "end_time": "2023-11-25T15:33:17.323245",
     "exception": false,
     "start_time": "2023-11-25T15:32:53.468273",
     "status": "completed"
    },
    "tags": []
   },
   "outputs": [],
   "source": [
    "# Define directory paths and CSV file\n",
    "image_dir = \"/train_images\"\n",
    "output_dir = \"/output_tiles\"\n",
    "csv_file_path = \"/train.csv\"\n",
    "\n",
    "# Read the CSV file containing image IDs and labels\n",
    "data = pd.read_csv(csv_file_path)\n",
    "\n",
    "# Iterate through each row in the CSV file\n",
    "for index, dataset_row in data.iterrows():\n",
    "    # Extract image ID, label, and generate tiles for each entry\n",
    "    generate_tiles(dataset_row['image_id'], dataset_row['label'], image_dir, output_dir, tile_size=256, threshold_mean=170, threshold_std=15)"
   ]
  }
 ],
 "metadata": {
  "kaggle": {
   "accelerator": "none",
   "dataSources": [
    {
     "databundleVersionId": 6924515,
     "sourceId": 45867,
     "sourceType": "competition"
    }
   ],
   "dockerImageVersionId": 30588,
   "isGpuEnabled": false,
   "isInternetEnabled": true,
   "language": "python",
   "sourceType": "notebook"
  },
  "kernelspec": {
   "display_name": "Python 3",
   "language": "python",
   "name": "python3"
  },
  "language_info": {
   "codemirror_mode": {
    "name": "ipython",
    "version": 3
   },
   "file_extension": ".py",
   "mimetype": "text/x-python",
   "name": "python",
   "nbconvert_exporter": "python",
   "pygments_lexer": "ipython3",
   "version": "3.10.12"
  },
  "papermill": {
   "default_parameters": {},
   "duration": 28.159333,
   "end_time": "2023-11-25T15:33:17.846306",
   "environment_variables": {},
   "exception": null,
   "input_path": "__notebook__.ipynb",
   "output_path": "__notebook__.ipynb",
   "parameters": {},
   "start_time": "2023-11-25T15:32:49.686973",
   "version": "2.4.0"
  }
 },
 "nbformat": 4,
 "nbformat_minor": 5
}
